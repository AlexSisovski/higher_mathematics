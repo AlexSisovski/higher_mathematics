{
 "cells": [
  {
   "cell_type": "code",
   "execution_count": 21,
   "metadata": {},
   "outputs": [],
   "source": [
    "import matplotlib.pyplot as plt\n",
    "import numpy as np\n",
    "\n",
    "%matplotlib inline"
   ]
  },
  {
   "cell_type": "markdown",
   "metadata": {},
   "source": [
    "## Код, моделирующий выпадение поля в рулетке"
   ]
  },
  {
   "cell_type": "markdown",
   "metadata": {},
   "source": [
    "1/37 зеро 18/37 красное 18/37 черное\n",
    "1/37 + 18/37 + 18/37 = 1"
   ]
  },
  {
   "cell_type": "code",
   "execution_count": 2,
   "metadata": {},
   "outputs": [
    {
     "name": "stdout",
     "output_type": "stream",
     "text": [
      "\n",
      "Красное\n",
      "\n",
      "Черное\n",
      "\n",
      "Красное\n",
      "\n",
      "Красное\n",
      "\n",
      "Черное\n",
      "\n",
      "Красное\n",
      "\n",
      "Черное\n",
      "\n",
      "Черное\n",
      "\n",
      "Красное\n",
      "\n",
      "Зеро\n"
     ]
    }
   ],
   "source": [
    "for i in range(10):\n",
    "    a = input()\n",
    "    x = np.random.uniform(0, 1)\n",
    "    if x < 1/37:\n",
    "        print('Зеро')\n",
    "    elif (1/37 + 18/37) > x > 1/37:\n",
    "        print('Красное')\n",
    "    else:\n",
    "        print('Черное')"
   ]
  },
  {
   "cell_type": "markdown",
   "metadata": {},
   "source": [
    "## Теорема сложения вероятностей на примере подбрасывания монеты"
   ]
  },
  {
   "attachments": {},
   "cell_type": "markdown",
   "metadata": {},
   "source": [
    "Вероятность суммы двух несовместимых событий равна сумме вероятностей этих событий: Р(А+В) = Р(А) + Р(В)"
   ]
  },
  {
   "cell_type": "markdown",
   "metadata": {},
   "source": [
    "Пусть n - количество случае подброса монеты. Предположим, что из этих случаев m благоприятны событию A, а k – событию B. Тогда p(A)=m/n, p(B)=k/n. p(A+B)=(m+k)/n"
   ]
  },
  {
   "cell_type": "code",
   "execution_count": 18,
   "metadata": {},
   "outputs": [
    {
     "name": "stdout",
     "output_type": "stream",
     "text": [
      "Введите количество бросков монеты: 2\n",
      "Вероятность 1, теорема доказана\n",
      "Введите количество бросков монеты: 6\n",
      "Вероятность 1, теорема доказана\n",
      "Введите количество бросков монеты: 10\n",
      "Вероятность 1, теорема доказана\n",
      "Введите количество бросков монеты: 15\n",
      "Вероятность 1, теорема доказана\n",
      "Введите количество бросков монеты: 40\n",
      "Вероятность 1, теорема доказана\n"
     ]
    }
   ],
   "source": [
    "for i in range(5):\n",
    "    n = int(input('Введите количество бросков монеты: '))\n",
    "    m = np.random.randint(1, n)\n",
    "    k = n - m\n",
    "    p = int((m + k) / n)\n",
    "    if p == 1:\n",
    "        print('Вероятность {}, теорема доказана'.format(p))\n",
    "    else:\n",
    "        print('Вероятность {}, теорема не доказана'.format(p))"
   ]
  },
  {
   "cell_type": "markdown",
   "metadata": {},
   "source": [
    "## Сгенерируйте десять выборок случайных чисел х0, …, х9 и постройте гистограмму распределения случайной суммы х0+х1+ …+ х9"
   ]
  },
  {
   "cell_type": "code",
   "execution_count": 64,
   "metadata": {},
   "outputs": [],
   "source": [
    "x_sum = []\n",
    "for i in range(10):\n",
    "    x = np.random.rand(100)\n",
    "    x_sum.append(sum(x))"
   ]
  },
  {
   "cell_type": "code",
   "execution_count": 65,
   "metadata": {},
   "outputs": [
    {
     "data": {
      "text/plain": [
       "[51.18748840942667,\n",
       " 46.23833892697119,\n",
       " 46.87262302265909,\n",
       " 47.44146089896995,\n",
       " 52.11769538315416,\n",
       " 50.15328072841756,\n",
       " 46.29297056738718,\n",
       " 49.88738559486161,\n",
       " 50.40870061687592,\n",
       " 48.23833603229034]"
      ]
     },
     "execution_count": 65,
     "metadata": {},
     "output_type": "execute_result"
    }
   ],
   "source": [
    "x_sum"
   ]
  },
  {
   "cell_type": "code",
   "execution_count": 68,
   "metadata": {},
   "outputs": [
    {
     "data": {
      "text/plain": [
       "(array([4., 1., 3., 2.]),\n",
       " array([46.23833893, 47.70817804, 49.17801716, 50.64785627, 52.11769538]),\n",
       " <a list of 4 Patch objects>)"
      ]
     },
     "execution_count": 68,
     "metadata": {},
     "output_type": "execute_result"
    },
    {
     "data": {
      "image/png": "[encoded data removed]",
      "text/plain": [
       "<Figure size 432x288 with 1 Axes>"
      ]
     },
     "metadata": {
      "needs_background": "light"
     },
     "output_type": "display_data"
    }
   ],
   "source": [
    "num_bins = 4\n",
    "plt.hist(x_sum, bins=num_bins, color='Brown')"
   ]
  },
  {
   "cell_type": "markdown",
   "metadata": {},
   "source": [
    "## Дополните код Монте-Карло последовательности независимых испытаний расчетом соответствующих вероятностей (через биномиальное распределение) и сравните результаты."
   ]
  },
  {
   "cell_type": "code",
   "execution_count": 95,
   "metadata": {},
   "outputs": [],
   "source": [
    "import itertools\n",
    "from math import factorial as f"
   ]
  },
  {
   "cell_type": "code",
   "execution_count": 109,
   "metadata": {},
   "outputs": [
    {
     "name": "stdout",
     "output_type": "stream",
     "text": [
      "382 1000 0.382\n"
     ]
    }
   ],
   "source": [
    "k, n = 0, 1000\n",
    "a = np.random.randint(0, 2, n)\n",
    "b = np.random.randint(0, 2, n)\n",
    "c = np.random.randint(0, 2, n)\n",
    "d = np.random.randint(0, 2, n)\n",
    "x = a + b + c + d\n",
    "for i in range(n):\n",
    "    if x[i] == 2:\n",
    "        k += 1\n",
    "print(k, n, k/n)"
   ]
  },
  {
   "cell_type": "code",
   "execution_count": 110,
   "metadata": {},
   "outputs": [
    {
     "name": "stdout",
     "output_type": "stream",
     "text": [
      "Биномиальное распределение:  0.375\n"
     ]
    }
   ],
   "source": [
    "c = f(4) / (f(2) * f(4-2))\n",
    "Pnk = c / 2**4\n",
    "print('Биномиальное распределение: ', Pnk)"
   ]
  },
  {
   "cell_type": "markdown",
   "metadata": {},
   "source": [
    "## Повторите расчеты биномиальных коэффициентов и вероятностей k успехов в последовательности из n независимых испытаний, взяв другие значения n и k."
   ]
  },
  {
   "cell_type": "code",
   "execution_count": 111,
   "metadata": {},
   "outputs": [
    {
     "name": "stdout",
     "output_type": "stream",
     "text": [
      "162 500 0.324\n"
     ]
    }
   ],
   "source": [
    "k, n = 0, 500\n",
    "a = np.random.randint(0, 2, n)\n",
    "b = np.random.randint(0, 2, n)\n",
    "c = np.random.randint(0, 2, n)\n",
    "d = np.random.randint(0, 2, n)\n",
    "e = np.random.randint(0, 2, n)\n",
    "j = np.random.randint(0, 2, n)\n",
    "x = a + b + c + d + e + j\n",
    "for i in range(n):\n",
    "    if x[i] == 2:\n",
    "        k += 1\n",
    "print(k, n, k/n)"
   ]
  },
  {
   "cell_type": "code",
   "execution_count": 114,
   "metadata": {},
   "outputs": [
    {
     "name": "stdout",
     "output_type": "stream",
     "text": [
      "Биномиальное распределение:  0.234375\n"
     ]
    }
   ],
   "source": [
    "c = f(6) / (f(2) * f(6-2))\n",
    "Pnk = c / 2**6\n",
    "print('Биномиальное распределение: ', Pnk)"
   ]
  },
  {
   "cell_type": "markdown",
   "metadata": {},
   "source": [
    "## Из урока по комбинаторике повторите расчеты, сгенерировав возможные варианты перестановок для других значений n и k"
   ]
  },
  {
   "cell_type": "code",
   "execution_count": 125,
   "metadata": {},
   "outputs": [
    {
     "name": "stdout",
     "output_type": "stream",
     "text": [
      "012\n",
      "013\n",
      "015\n",
      "016\n",
      "021\n",
      "023\n",
      "025\n",
      "026\n",
      "031\n",
      "032\n",
      "035\n",
      "036\n",
      "051\n",
      "052\n",
      "053\n",
      "056\n",
      "061\n",
      "062\n",
      "063\n",
      "065\n",
      "102\n",
      "103\n",
      "105\n",
      "106\n",
      "120\n",
      "123\n",
      "125\n",
      "126\n",
      "130\n",
      "132\n",
      "135\n",
      "136\n",
      "150\n",
      "152\n",
      "153\n",
      "156\n",
      "160\n",
      "162\n",
      "163\n",
      "165\n",
      "201\n",
      "203\n",
      "205\n",
      "206\n",
      "210\n",
      "213\n",
      "215\n",
      "216\n",
      "230\n",
      "231\n",
      "235\n",
      "236\n",
      "250\n",
      "251\n",
      "253\n",
      "256\n",
      "260\n",
      "261\n",
      "263\n",
      "265\n",
      "301\n",
      "302\n",
      "305\n",
      "306\n",
      "310\n",
      "312\n",
      "315\n",
      "316\n",
      "320\n",
      "321\n",
      "325\n",
      "326\n",
      "350\n",
      "351\n",
      "352\n",
      "356\n",
      "360\n",
      "361\n",
      "362\n",
      "365\n",
      "501\n",
      "502\n",
      "503\n",
      "506\n",
      "510\n",
      "512\n",
      "513\n",
      "516\n",
      "520\n",
      "521\n",
      "523\n",
      "526\n",
      "530\n",
      "531\n",
      "532\n",
      "536\n",
      "560\n",
      "561\n",
      "562\n",
      "563\n",
      "601\n",
      "602\n",
      "603\n",
      "605\n",
      "610\n",
      "612\n",
      "613\n",
      "615\n",
      "620\n",
      "621\n",
      "623\n",
      "625\n",
      "630\n",
      "631\n",
      "632\n",
      "635\n",
      "650\n",
      "651\n",
      "652\n",
      "653\n"
     ]
    }
   ],
   "source": [
    "# размещения и перестановки\n",
    "for p in itertools.permutations('012356', 3):\n",
    "    print(''.join(p))"
   ]
  },
  {
   "cell_type": "code",
   "execution_count": 128,
   "metadata": {
    "scrolled": true
   },
   "outputs": [
    {
     "name": "stdout",
     "output_type": "stream",
     "text": [
      "4567\n",
      "4568\n",
      "4578\n",
      "4678\n",
      "5678\n"
     ]
    }
   ],
   "source": [
    "# сочетания\n",
    "for p in itertools.combinations('45678', 4):\n",
    "    print(''.join(p))"
   ]
  },
  {
   "cell_type": "markdown",
   "metadata": {},
   "source": [
    "## Дополните код расчетом коэффициента корреляции x и y по формуле"
   ]
  },
  {
   "cell_type": "code",
   "execution_count": 141,
   "metadata": {},
   "outputs": [
    {
     "name": "stdout",
     "output_type": "stream",
     "text": [
      "[[1.         0.99427591]\n",
      " [0.99427591 1.        ]]\n"
     ]
    },
    {
     "data": {
      "image/png": "[encoded data removed]",
      "text/plain": [
       "<Figure size 432x288 with 1 Axes>"
      ]
     },
     "metadata": {
      "needs_background": "light"
     },
     "output_type": "display_data"
    }
   ],
   "source": [
    "from math import sqrt\n",
    "\n",
    "n = 100\n",
    "r = 0.9\n",
    "x = np.random.rand(n)\n",
    "y = r * x + (1 - r) * np.random.rand(n)\n",
    "\n",
    "plt.plot(x, y, 'o')\n",
    "plt.grid(True)\n",
    "\n",
    "c = np.corrcoef(x, y)\n",
    "print(c)"
   ]
  },
  {
   "cell_type": "code",
   "execution_count": 142,
   "metadata": {},
   "outputs": [],
   "source": [
    "xm = np.ndarray.mean(x)\n",
    "ym = np.ndarray.mean(y)"
   ]
  },
  {
   "cell_type": "code",
   "execution_count": 143,
   "metadata": {},
   "outputs": [],
   "source": [
    "R = ((sum(x) - xm) * (sum(y) - ym)) / sqrt((sum(x) - xm)**2 * (sum(y) - ym)**2)"
   ]
  },
  {
   "cell_type": "code",
   "execution_count": 144,
   "metadata": {},
   "outputs": [
    {
     "data": {
      "text/plain": [
       "1.0"
      ]
     },
     "execution_count": 144,
     "metadata": {},
     "output_type": "execute_result"
    }
   ],
   "source": [
    "R"
   ]
  },
  {
   "cell_type": "code",
   "execution_count": null,
   "metadata": {},
   "outputs": [],
   "source": []
  }
 ],
 "metadata": {
  "kernelspec": {
   "display_name": "Python 3",
   "language": "python",
   "name": "python3"
  },
  "language_info": {
   "codemirror_mode": {
    "name": "ipython",
    "version": 3
   },
   "file_extension": ".py",
   "mimetype": "text/x-python",
   "name": "python",
   "nbconvert_exporter": "python",
   "pygments_lexer": "ipython3",
   "version": "3.7.2"
  }
 },
 "nbformat": 4,
 "nbformat_minor": 2
}
